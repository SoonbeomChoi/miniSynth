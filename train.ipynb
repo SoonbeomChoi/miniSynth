{
 "cells": [
  {
   "cell_type": "code",
   "execution_count": 3,
   "metadata": {},
   "outputs": [
    {
     "ename": "SyntaxError",
     "evalue": "invalid syntax (data.py, line 62)",
     "output_type": "error",
     "traceback": [
      "Traceback \u001b[0;36m(most recent call last)\u001b[0m:\n",
      "  File \u001b[1;32m\"/home/soonbeom/Anaconda/envs/py38/lib/python3.8/site-packages/IPython/core/interactiveshell.py\"\u001b[0m, line \u001b[1;32m3437\u001b[0m, in \u001b[1;35mrun_code\u001b[0m\n    exec(code_obj, self.user_global_ns, self.user_ns)\n",
      "\u001b[0;36m  File \u001b[0;32m\"<ipython-input-3-92ebe745dccd>\"\u001b[0;36m, line \u001b[0;32m8\u001b[0;36m, in \u001b[0;35m<module>\u001b[0;36m\u001b[0m\n\u001b[0;31m    import data\u001b[0m\n",
      "\u001b[0;36m  File \u001b[0;32m\"/media/daftpunk3/home/soonbeom/GitClone/miniSynth/data.py\"\u001b[0;36m, line \u001b[0;32m62\u001b[0m\n\u001b[0;31m    dataloader['test'] = DataLoader(\u001b[0m\n\u001b[0m    ^\u001b[0m\n\u001b[0;31mSyntaxError\u001b[0m\u001b[0;31m:\u001b[0m invalid syntax\n"
     ]
    }
   ],
   "source": [
    "import torch\n",
    "import torch.nn as nn\n",
    "from tqdm import tqdm\n",
    "\n",
    "import config\n",
    "import data\n",
    "import preprocess"
   ]
  },
  {
   "cell_type": "code",
   "execution_count": null,
   "metadata": {},
   "outputs": [],
   "source": [
    "def get_padding(padding, kernel_size, dilation):\n",
    "    kernel_size_type = type(kernel_size)\n",
    "    if kernel_size_type != list and kernel_size_type != tuple:\n",
    "        kernel_size = [kernel_size]\n",
    "\n",
    "    padding_list = []\n",
    "    for k in kernel_size:\n",
    "        if padding == \"same\":\n",
    "            p = ((k - 1)*dilation + 1)//2\n",
    "        elif padding == \"causal\":\n",
    "            p = (k - 1)*dilation\n",
    "        elif padding == \"valid\":\n",
    "            p = 0\n",
    "        else:\n",
    "            raise ValueError(\"Padding should be 'valid', 'same' or 'causal'\")\n",
    "\n",
    "        padding_list.append(p)\n",
    "\n",
    "    if kernel_size_type != list and kernel_size_type != tuple:\n",
    "        padding = padding_list[0]\n",
    "    else:\n",
    "        padding = padding_list\n",
    "\n",
    "    return padding\n",
    "\n",
    "\n",
    "class Conv1d(nn.Module):\n",
    "  def __init__(self, input_size, output_size, kernel_size=1, stride=1, padding=\"same\", dilation=1, bias=True):\n",
    "    self.layer = nn.Conv1d(input_size, output_size, kernel_size=kernel_size, stride=stride, padding=get_padding(padding), dilation=dilation, bias=bias)\n",
    "\n",
    "  def forward(self, x):\n",
    "    length = x.size(-1)\n",
    "\n",
    "    return self.layer(x)[..., :length]\n",
    "\n",
    "\n",
    "class HighwayConv1d(nn.Module):\n",
    "  def __init__(self, input_size, output_size, kernel_size=3, padding=\"same\", dilation=1, dropout=0.0):\n",
    "    super(HighwayConv1d, self).__init__()\n",
    "\n",
    "    self.conv1d = Conv1d(input_size, 2*output_size, kernel_size=kernel_size, padding=padding, dilation=dilation)\n",
    "    self.dropout = nn.Dropout(dropout)\n",
    "\n",
    "  def forward(self, x):\n",
    "    h1, h2 = self.conv1d(x).chunk(2, dim=1)\n",
    "    h1 = torch.sigmoid(h1)\n",
    "    h2 = torch.relu(h2)\n",
    "\n",
    "    h = h1*h2 + (1.0 - h1)*x\n",
    "    h = self.dropout(h)\n",
    "\n",
    "    return h\n",
    "\n",
    "\n",
    "class Model(nn.Module):\n",
    "    def __init__(self, num_note, mel_size, hidden_size, dropout=0.0):\n",
    "        self.embedding = nn.Embedding(num_note, hidden_size)\n",
    "        self.encoder = nn.Sequential(\n",
    "            Conv1d(num_note, hidden_size),\n",
    "            nn.ReLU(),\n",
    "            HighwayConv1d(hidden_size, hidden_size, dilation=1, dropout=dropout),\n",
    "            HighwayConv1d(hidden_size, hidden_size, dilation=3, dropout=dropout),\n",
    "            HighwayConv1d(hidden_size, hidden_size, dilation=9, dropout=dropout),\n",
    "            HighwayConv1d(hidden_size, hidden_size, dilation=27, dropout=dropout))\n",
    "    \n",
    "        self.decoder = nn.Sequential(\n",
    "            nn.Conv1d(hidden_size, hidden_size),\n",
    "            nn.ReLU(),\n",
    "            HighwayConv1d(hidden_size, hidden_size, padding=\"causal\", dilation=1, dropout=dropout),\n",
    "            HighwayConv1d(hidden_size, hidden_size, padding=\"causal\", dilation=3, dropout=dropout),\n",
    "            HighwayConv1d(hidden_size, hidden_size, padding=\"causal\", dilation=9, dropout=dropout),\n",
    "            HighwayConv1d(hidden_size, hidden_size, padding=\"causal\", dilation=27, dropout=dropout),\n",
    "            HighwayConv1d(hidden_size, hidden_size, padding=\"causal\", dilation=1, dropout=dropout),\n",
    "            HighwayConv1d(hidden_size, hidden_size, padding=\"causal\", dilation=1, dropout=dropout),\n",
    "            Conv1d(hidden_size, hidden_size),\n",
    "            nn.ReLU(),\n",
    "            Conv1d(hidden_size, mel_size))\n",
    "    \n",
    "    def forward(self, x):\n",
    "        y = self.embedding(x['note'])\n",
    "        y = self.encoder(y)\n",
    "        y = self.decoder(y)\n",
    "\n",
    "        return y"
   ]
  },
  {
   "cell_type": "code",
   "execution_count": null,
   "metadata": {},
   "outputs": [
    {
     "ename": "NameError",
     "evalue": "name 'preprocess' is not defined",
     "output_type": "error",
     "traceback": [
      "\u001b[0;31m---------------------------------------------------------------------------\u001b[0m",
      "\u001b[0;31mNameError\u001b[0m                                 Traceback (most recent call last)",
      "\u001b[0;32m<ipython-input-2-a6d91cadc7be>\u001b[0m in \u001b[0;36m<module>\u001b[0;34m\u001b[0m\n\u001b[0;32m----> 1\u001b[0;31m \u001b[0mpreprocess\u001b[0m\u001b[0;34m.\u001b[0m\u001b[0mrun\u001b[0m\u001b[0;34m(\u001b[0m\u001b[0;34m)\u001b[0m\u001b[0;34m\u001b[0m\u001b[0;34m\u001b[0m\u001b[0m\n\u001b[0m",
      "\u001b[0;31mNameError\u001b[0m: name 'preprocess' is not defined"
     ]
    }
   ],
   "source": [
    "# Run preprocess\n",
    "preprocess.run()"
   ]
  },
  {
   "cell_type": "code",
   "execution_count": null,
   "metadata": {},
   "outputs": [],
   "source": [
    "dataloader = data.load()\n",
    "model = Model().cuda()\n",
    "optimizer = nn.Adam(model.parameters(), config.learning_rate)\n",
    "criterion = nn.L1Loss()\n",
    "\n",
    "for epoch in range(int(config.stop_step/config.save_step)):\n",
    "    model.train()\n",
    "    progress_bar = tqdm(range(config.save_step), leave=False)\n",
    "    for _ in progress_bar:\n",
    "        note, mel = next(dataloader['train'])\n",
    "        note = note.cuda()\n",
    "        mel = mel.cuda()\n",
    "        \n",
    "        optimizer.zero_grad()\n",
    "        mel_gen = model(note)\n",
    "        loss = criterion(mel_gen, mel)\n",
    "        loss.backward()\n",
    "        optimizer.step()\n",
    "        progress_bar.set_description(f\"Loss - {loss.item():.4f}\")"
   ]
  },
  {
   "cell_type": "markdown",
   "metadata": {},
   "source": []
  }
 ],
 "metadata": {
  "interpreter": {
   "hash": "f53e6094f58d52780b0db94aace58199e2b2b4b29ebe6c0febe4529c78436756"
  },
  "kernelspec": {
   "display_name": "Python 3.8.2 ('py38')",
   "language": "python",
   "name": "python3"
  },
  "language_info": {
   "codemirror_mode": {
    "name": "ipython",
    "version": 3
   },
   "file_extension": ".py",
   "mimetype": "text/x-python",
   "name": "python",
   "nbconvert_exporter": "python",
   "pygments_lexer": "ipython3",
   "version": "3.8.2"
  },
  "orig_nbformat": 4
 },
 "nbformat": 4,
 "nbformat_minor": 2
}

{
 "cells": [
  {
   "cell_type": "code",
   "execution_count": 1,
   "metadata": {},
   "outputs": [],
   "source": [
    "MIDI_FILE = \"/media/daftpunk3/home/soonbeom/Dataset/URMPPlus/edm_violin/mid/BEVFE_06_Violin_140_BPM_B.mid\""
   ]
  },
  {
   "cell_type": "code",
   "execution_count": 2,
   "metadata": {},
   "outputs": [],
   "source": [
    "import torch\n",
    "from os import path\n",
    "\n",
    "import config, preprocess, vocoder\n",
    "from model import Model"
   ]
  },
  {
   "cell_type": "code",
   "execution_count": 5,
   "metadata": {},
   "outputs": [],
   "source": [
    "model = Model().cuda()\n",
    "model.load_state_dict(torch.load(path.join(config.exp_path, 'checkpoint.pt')))\n",
    "model.eval()\n",
    "\n",
    "data = preprocess.preprocess(MIDI_FILE, test=True)\n",
    "audio = []\n",
    "for d in data:\n",
    "    with torch.no_grad():\n",
    "        note = d['note'].unsqueeze(0).cuda()\n",
    "        mel_pred = model(note)\n",
    "        audio.append(vocoder.run(mel_pred))\n",
    "\n",
    "audio = torch.cat(audio, dim=-1)"
   ]
  },
  {
   "cell_type": "code",
   "execution_count": 6,
   "metadata": {},
   "outputs": [
    {
     "data": {
      "text/plain": [
       "torch.Size([1, 190208])"
      ]
     },
     "execution_count": 6,
     "metadata": {},
     "output_type": "execute_result"
    }
   ],
   "source": [
    "audio.size()"
   ]
  }
 ],
 "metadata": {
  "interpreter": {
   "hash": "f53e6094f58d52780b0db94aace58199e2b2b4b29ebe6c0febe4529c78436756"
  },
  "kernelspec": {
   "display_name": "Python 3.8.2 ('py38')",
   "language": "python",
   "name": "python3"
  },
  "language_info": {
   "codemirror_mode": {
    "name": "ipython",
    "version": 3
   },
   "file_extension": ".py",
   "mimetype": "text/x-python",
   "name": "python",
   "nbconvert_exporter": "python",
   "pygments_lexer": "ipython3",
   "version": "3.8.2"
  },
  "orig_nbformat": 4
 },
 "nbformat": 4,
 "nbformat_minor": 2
}

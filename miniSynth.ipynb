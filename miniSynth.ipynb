{
 "cells": [
  {
   "cell_type": "code",
   "execution_count": null,
   "metadata": {},
   "outputs": [],
   "source": [
    "from os import mkdir, path\n",
    "from google.colab import drive\n",
    "drive.mount('/content/drive')"
   ]
  },
  {
   "cell_type": "code",
   "execution_count": null,
   "metadata": {},
   "outputs": [],
   "source": [
    "%cd /content/drive/MyDrive/Colab\\ Notebooks/\n",
    "!git clone https://github.com/SoonbeomChoi/miniSynth.git\n",
    "%cd miniSynth\n",
    "!git pull origin main"
   ]
  },
  {
   "cell_type": "code",
   "execution_count": null,
   "metadata": {},
   "outputs": [],
   "source": [
    "!pip install pretty_midi"
   ]
  },
  {
   "cell_type": "code",
   "execution_count": null,
   "metadata": {},
   "outputs": [],
   "source": [
    "# Change following paths before you run\n",
    "DATASET_PATH = \"/media/daftpunk3/home/soonbeom/Dataset/URMPPlus/edm_violin\"\n",
    "MIDI_FILE = \"/media/daftpunk3/home/soonbeom/Dataset/URMPPlus/edm_violin/mid/BEVFE_19_Violin_80_BPM_G.mid\""
   ]
  },
  {
   "cell_type": "code",
   "execution_count": null,
   "metadata": {},
   "outputs": [],
   "source": [
    "import torch\n",
    "import torch.nn as nn\n",
    "import librosa.display\n",
    "import matplotlib.pyplot as plt\n",
    "import IPython.display as ipd\n",
    "from tqdm import tqdm\n",
    "\n",
    "import config, preprocess, data, test\n",
    "from model import Model"
   ]
  },
  {
   "cell_type": "code",
   "execution_count": null,
   "metadata": {},
   "outputs": [],
   "source": [
    "# Run preprocess\n",
    "preprocess.run(DATASET_PATH)"
   ]
  },
  {
   "cell_type": "code",
   "execution_count": null,
   "metadata": {},
   "outputs": [],
   "source": [
    "# Train model\n",
    "if not path.exists(config.exp_path):\n",
    "    mkdir(config.exp_path)\n",
    "\n",
    "dataloader = data.load()\n",
    "model = Model().cuda()\n",
    "optimizer = torch.optim.Adam(model.parameters(), config.learning_rate)\n",
    "criterion = nn.L1Loss()\n",
    "steps = 0\n",
    "\n",
    "for epoch in range(int(config.stop_step/config.save_step)):\n",
    "    model.train()\n",
    "    progress_bar = tqdm(range(config.save_step), position=0, leave=True, total=None)\n",
    "    for _ in progress_bar:\n",
    "        note, mel = next(dataloader['train'])\n",
    "        note = note.cuda()\n",
    "        mel = mel.cuda()\n",
    "        \n",
    "        optimizer.zero_grad()\n",
    "        mel_gen = model(note)\n",
    "        loss = criterion(mel_gen, mel)\n",
    "        loss.backward()\n",
    "        optimizer.step()\n",
    "        progress_bar.set_description(f\"Loss - {loss.item():.4f}\")\n",
    "        steps += 1\n",
    "        \n",
    "    torch.save(model.state_dict(), path.join(config.exp_path, 'checkpoint.pt'))\n",
    "    test.run(MIDI_FILE, savename=path.basename(MIDI_FILE).replace('.mid', f'_{steps}'))\n",
    "    print(f\"| steps: {steps} | train loss: {loss.item():.4f} |\")"
   ]
  },
  {
   "cell_type": "code",
   "execution_count": null,
   "metadata": {},
   "outputs": [],
   "source": [
    "audio = test.run(MIDI_FILE)\n",
    "plt.figure(figsize=(14, 4))\n",
    "librosa.display.waveplot(audio, sr=config.sample_rate)"
   ]
  },
  {
   "cell_type": "code",
   "execution_count": null,
   "metadata": {},
   "outputs": [],
   "source": [
    "ipd.Audio(audio, rate=config.sample_rate)"
   ]
  }
 ],
 "metadata": {
  "interpreter": {
   "hash": "f53e6094f58d52780b0db94aace58199e2b2b4b29ebe6c0febe4529c78436756"
  },
  "kernelspec": {
   "display_name": "Python 3.8.2 ('py38')",
   "language": "python",
   "name": "python3"
  },
  "language_info": {
   "codemirror_mode": {
    "name": "ipython",
    "version": 3
   },
   "file_extension": ".py",
   "mimetype": "text/x-python",
   "name": "python",
   "nbconvert_exporter": "python",
   "pygments_lexer": "ipython3",
   "version": "3.8.2"
  },
  "orig_nbformat": 4
 },
 "nbformat": 4,
 "nbformat_minor": 2
}
